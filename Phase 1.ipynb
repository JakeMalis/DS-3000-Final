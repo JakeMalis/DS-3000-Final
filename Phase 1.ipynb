{
 "cells": [
  {
   "cell_type": "markdown",
   "id": "8cbd8d62-7b25-4590-aa1e-1395ce8b5038",
   "metadata": {},
   "source": [
    "## Phase I Project Proposal\n",
    "### Airline flight performance statistics\n",
    "\n",
    "#### Jake Malis, DS 3000 Section 4, Spring 2025"
   ]
  },
  {
   "cell_type": "markdown",
   "id": "b18e839c-1ef4-4fe0-b2dc-a0cacbe3aa6c",
   "metadata": {},
   "source": [
    "### Introduction\n",
    "\n"
   ]
  },
  {
   "cell_type": "markdown",
   "id": "f1dd9251-8c31-4561-8085-aace74e90e76",
   "metadata": {},
   "source": [
    "### Data Collection\n",
    "\n",
    "I plan on using [U.S. Department of Transportation's (DOT) Bureau of Transportation Statistics' 2015 Flight Delays and Cancellations dataset from Kaggle](https://www.kaggle.com/datasets/usdot/flight-delays) which contains airline data, airport data, and detailed flight data from 2015. This will allow me to derive at a minimum which airlines are most delayed and most cancelled. This dataset can be imported from Kaggle using [Croissant](https://github.com/mlcommons/croissant) which makes it easy to import the data for use with Pandas DataFrames."
   ]
  },
  {
   "cell_type": "code",
   "execution_count": null,
   "id": "d2f34c02",
   "metadata": {
    "vscode": {
     "languageId": "shellscript"
    }
   },
   "outputs": [],
   "source": [
    "pip install mlcroissant"
   ]
  },
  {
   "cell_type": "code",
   "execution_count": null,
   "id": "c16676a7-8125-44b4-825c-fa944a551dd8",
   "metadata": {},
   "outputs": [],
   "source": [
    "import mlcroissant as mlc\n",
    "import pandas as pd\n",
    "\n",
    "# Fetch the Croissant JSON-LD\n",
    "croissant_dataset = mlc.Dataset('https://www.kaggle.com/datasets/usdot/flight-delays/croissant/download')\n",
    "\n",
    "# Check what record sets are in the dataset\n",
    "record_sets = croissant_dataset.metadata.record_sets\n",
    "print(record_sets)"
   ]
  },
  {
   "cell_type": "code",
   "execution_count": null,
   "id": "466a26f6",
   "metadata": {},
   "outputs": [],
   "source": [
    "airlines_df = pd.DataFrame(croissant_dataset.records(record_set=record_sets[0].uuid))\n",
    "airlines_df.columns = airlines_df.columns.str.replace('airlines.csv/', '')\n",
    "\n",
    "airlines_df.head()"
   ]
  },
  {
   "cell_type": "code",
   "execution_count": null,
   "id": "263559f6",
   "metadata": {},
   "outputs": [],
   "source": [
    "airports_df = pd.DataFrame(croissant_dataset.records(record_set=record_sets[1].uuid))\n",
    "airports_df.columns = airports_df.columns.str.replace('airports.csv/','')\n",
    "airports_df.head()"
   ]
  },
  {
   "cell_type": "code",
   "execution_count": null,
   "id": "3e25adc2",
   "metadata": {},
   "outputs": [],
   "source": [
    "from itertools import islice\n",
    "\n",
    "flight_records = list(islice(croissant_dataset.records(record_set=record_sets[2].uuid), 1000))\n",
    "flights_df = pd.DataFrame(flight_records)\n",
    "flights_df.columns = flights_df.columns.str.replace('flights.csv/','')\n",
    "flights_df.head()"
   ]
  },
  {
   "cell_type": "markdown",
   "id": "30c4ee3e-875b-40af-a136-2cf7f5983e7f",
   "metadata": {},
   "source": [
    "### Data Usage and Remaining Issues\n",
    "\n",
    "The above data set consists of 3 separate datasets (airline data, airport data, and flight data) which should all be merged together in order to provide the most detailed statistics when working with the data. Also, the format for date is currently weird, and I would combine the 3 date-related columns to produce one column with date as a datatype. I think first, I would combine the 3 datasets together so that it's easier to reference all the data in one place. Then I would determine the total flights for each airline. Then I can clean up data into one table with all of the flights where they were delayed and another with all flights that were cancelled. From that, I'd be able to produce percentages about which airlines' flights are most frequently delayed and cancelled. I could also try to determine trends about which airports have the highest & lowest percentage of delayed & cancelled flights. I hypothesize that airports in cold weather states are most likely to have delays and cancellations due to weather issues, especially during winter months. I can use PyTorch to generate a model trained on half the dataset, and use it to predict the other half of the dataset."
   ]
  }
 ],
 "metadata": {
  "kernelspec": {
   "display_name": "base",
   "language": "python",
   "name": "python3"
  },
  "language_info": {
   "codemirror_mode": {
    "name": "ipython",
    "version": 3
   },
   "file_extension": ".py",
   "mimetype": "text/x-python",
   "name": "python",
   "nbconvert_exporter": "python",
   "pygments_lexer": "ipython3",
   "version": "3.12.2"
  }
 },
 "nbformat": 4,
 "nbformat_minor": 5
}
