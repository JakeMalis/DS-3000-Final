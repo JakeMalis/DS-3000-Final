{
 "cells": [
  {
   "cell_type": "markdown",
   "id": "8255858b",
   "metadata": {},
   "source": [
    "# Phase II: Data Curation, Exploratory Analysis and Plotting\n",
    "Central Motivation:\n",
    "\n",
    "We plan on using [U.S. Department of Transportation's (DOT) Bureau of Transportation Statistics' 2015 Flight Delays and Cancellations dataset from Kaggle](https://www.kaggle.com/datasets/usdot/flight-delays) which contains airline data, airport data, and detailed flight data from 2015. As college students coming to Boston from across the country, we have all had to become frequent flyers. On top of this, roughly [25 million people report anxiety around flying (2024)](https://www.stratosjets.com/blog/fear-of-flying-statistics-trends-facts/), with recent airline news likely increasing this number significantly. We wanted to see how we could use the airline data to find trends and make predictions that may calm some nerves, or just improve overall flying experience. \n",
    "\n",
    "Using these data, we want to determine:\n",
    "1. What causes or correlations (time of travel, weather, etc) we can link to delays and cancellations — can we make predictions or improve these?\n",
    "2. What causes or correlations can we link to accidents? How can we use these to improve air travel safety?"
   ]
  },
  {
   "cell_type": "code",
   "execution_count": null,
   "id": "24db21a7",
   "metadata": {
    "vscode": {
     "languageId": "shellscript"
    }
   },
   "outputs": [],
   "source": [
    "pip install kagglehub pandas altair seaborn matplotlib plotly geopandas shapely contextily --upgrade"
   ]
  },
  {
   "cell_type": "markdown",
   "id": "e27d6393",
   "metadata": {},
   "source": [
    "## Data Collection\n",
    "\n",
    "This dataset can be imported from Kaggle using the [Kaggle Hub Client Library](https://github.com/Kaggle/kagglehub) which makes it easy to import the data for use with Pandas DataFrames."
   ]
  },
  {
   "cell_type": "code",
   "execution_count": null,
   "id": "9cf52da1",
   "metadata": {},
   "outputs": [],
   "source": [
    "import kagglehub\n",
    "path = kagglehub.dataset_download(\"usdot/flight-delays\")"
   ]
  },
  {
   "cell_type": "code",
   "execution_count": null,
   "id": "bd3ea659",
   "metadata": {},
   "outputs": [],
   "source": [
    "import pandas as pd\n",
    "\n",
    "airlines_df = pd.read_csv(path + \"/airlines.csv\", low_memory=False, encoding='UTF-8')\n",
    "airports_df = pd.read_csv(path + \"/airports.csv\", low_memory=False, encoding='UTF-8')\n",
    "flights_df = pd.read_csv(path + \"/flights.csv\", low_memory=False, encoding='UTF-8')"
   ]
  },
  {
   "cell_type": "markdown",
   "id": "75a59887",
   "metadata": {},
   "source": [
    "## Data Cleanup\n",
    "\n",
    "Merges the 3 DataFrames together, first by removing their file name prefixes from the column names. Then, by adding in airport information for both the origin and destination airport (merges the Airports DF twice technically), and then joins the airlines table with the flights table. Lastly, we create a datetime object from the existing date columns"
   ]
  },
  {
   "cell_type": "code",
   "execution_count": null,
   "id": "536c96d7",
   "metadata": {},
   "outputs": [],
   "source": [
    "# Remove file name prefix from column names\n",
    "airlines_df.columns = airlines_df.columns.str.replace(r'^airlines\\.csv/', '', regex=True)\n",
    "airlines_df.rename(columns={'AIRLINE': 'AIRLINE NAME'}, inplace=True)\n",
    "\n",
    "airports_df.columns = airports_df.columns.str.replace(r'^airports\\.csv/', '', regex=True)\n",
    "\n",
    "flights_df.columns = flights_df.columns.str.replace(r'^flights\\.csv/', '', regex=True)"
   ]
  },
  {
   "cell_type": "code",
   "execution_count": null,
   "id": "56234dab",
   "metadata": {},
   "outputs": [],
   "source": [
    "# Join airports data to flights table\n",
    "origin_airports = airports_df.add_prefix('origin_airport/')\n",
    "destination_airports = airports_df.add_prefix('destination_airport/')\n",
    "\n",
    "flights_df = flights_df.join(origin_airports.set_index('origin_airport/IATA_CODE'), on='ORIGIN_AIRPORT')\n",
    "flights_df = flights_df.join(destination_airports.set_index('destination_airport/IATA_CODE'), on='DESTINATION_AIRPORT')"
   ]
  },
  {
   "cell_type": "code",
   "execution_count": null,
   "id": "62ae67c7",
   "metadata": {},
   "outputs": [],
   "source": [
    "# Join airlines data to flights table\n",
    "flights_df = flights_df.join(airlines_df.set_index('IATA_CODE'), on='AIRLINE')"
   ]
  },
  {
   "cell_type": "code",
   "execution_count": null,
   "id": "9c87a041",
   "metadata": {},
   "outputs": [],
   "source": [
    "# Create DATE column from YEAR, MONTH, DAY, and SCHEDULED_DEPARTURE columns\n",
    "flights_df['DATE'] = pd.to_datetime(\n",
    "    flights_df['YEAR'].astype(str) + '-' +\n",
    "    flights_df['MONTH'].astype(str) + '-' +\n",
    "    flights_df['DAY'].astype(str) + ' ' +\n",
    "    flights_df['SCHEDULED_DEPARTURE'].astype(str).str.zfill(4),\n",
    "    format='%Y-%m-%d %H%M'\n",
    ")"
   ]
  },
  {
   "cell_type": "markdown",
   "id": "537e9611",
   "metadata": {},
   "source": [
    "## Data Visualization"
   ]
  },
  {
   "cell_type": "code",
   "execution_count": null,
   "id": "86661daa",
   "metadata": {},
   "outputs": [],
   "source": [
    "import altair as alt\n",
    "import seaborn as sns\n",
    "import matplotlib.pyplot as plt\n",
    "import plotly.express as px\n",
    "\n",
    "alt.data_transformers.disable_max_rows()"
   ]
  },
  {
   "cell_type": "code",
   "execution_count": null,
   "id": "f085d03f",
   "metadata": {},
   "outputs": [],
   "source": [
    "\"\"\"\n",
    "Visualizes the geographical distribution of flight cancellations across airports in the USA.\n",
    "- Filters flight data to include only cancelled flights\n",
    "- Groups cancellations by origin airport with their geographical coordinates\n",
    "- Creates an interactive bubble map where bubble size represents the number of cancellations\n",
    "- Includes hover information showing airport name, code, and cancellation count\n",
    "- Reference: https://plotly.com/python/bubble-maps/\n",
    "\"\"\"\n",
    "\n",
    "# Filter for cancelled flights\n",
    "cancelled_flights = flights_df[flights_df['CANCELLED'] == 1]\n",
    "\n",
    "# Group by origin airport and count cancellations\n",
    "cancellations_by_airport = cancelled_flights.groupby(['ORIGIN_AIRPORT', \n",
    "                                                     'origin_airport/AIRPORT',\n",
    "                                                     'origin_airport/LATITUDE', \n",
    "                                                     'origin_airport/LONGITUDE']).size().reset_index(name='cancellation_count')\n",
    "\n",
    "# Create the bubble map\n",
    "fig = px.scatter_geo(cancellations_by_airport,\n",
    "                     lat='origin_airport/LATITUDE',\n",
    "                     lon='origin_airport/LONGITUDE',\n",
    "                     size='cancellation_count',\n",
    "                     hover_name='origin_airport/AIRPORT',\n",
    "                     hover_data=['ORIGIN_AIRPORT', 'cancellation_count'],\n",
    "                     scope='usa',\n",
    "                     title='Cancelled Flights by Origin Airport')\n",
    "\n",
    "# Customize the map appearance\n",
    "fig.update_layout(\n",
    "    title_font_size=20,\n",
    "    title_x=0.5,\n",
    "    width=1000,  # Set width in pixels\n",
    "    height=750,  # Set height in pixels\n",
    "    geo=dict(\n",
    "        landcolor='rgb(217, 217, 217)',\n",
    "        showlakes=True,\n",
    "        lakecolor='rgb(255, 255, 255)',\n",
    "    )\n",
    ")\n",
    "\n",
    "# Display the map\n",
    "fig.show()"
   ]
  },
  {
   "cell_type": "code",
   "execution_count": null,
   "id": "103137a4",
   "metadata": {},
   "outputs": [],
   "source": [
    "\"\"\"\n",
    "Analyzes and visualizes the flight cancellation rates by airline.\n",
    "- Calculates the cancellation ratio (cancelled flights divided by total flights) for each airline\n",
    "- Sorts airlines from highest to lowest cancellation ratio\n",
    "- Creates a bar chart showing these ratios with proper formatting and labels\n",
    "\"\"\"\n",
    "\n",
    "agg_flights = flights_df.groupby('AIRLINE NAME').agg(cancel_ratio=('CANCELLED', 'mean')).reset_index()\n",
    "agg_flights = agg_flights.sort_values(by='cancel_ratio', ascending=False)\n",
    "\n",
    "plt.figure(figsize=(14, 8))\n",
    "sns.barplot(data=agg_flights, x='AIRLINE NAME', y='cancel_ratio')\n",
    "plt.xlabel(\"Airline\")\n",
    "plt.ylabel(\"Cancellation Ratio\")\n",
    "plt.title(\"Cancellation Ratio by Airline (Sorted by Highest Ratio)\")\n",
    "plt.xticks(rotation=45, ha='right')\n",
    "plt.tight_layout()\n",
    "plt.ylim(0, agg_flights['cancel_ratio'].max() * 1.1)\n",
    "plt.show()"
   ]
  }
 ],
 "metadata": {
  "kernelspec": {
   "display_name": "base",
   "language": "python",
   "name": "python3"
  },
  "language_info": {
   "codemirror_mode": {
    "name": "ipython",
    "version": 3
   },
   "file_extension": ".py",
   "mimetype": "text/x-python",
   "name": "python",
   "nbconvert_exporter": "python",
   "pygments_lexer": "ipython3",
   "version": "3.12.2"
  }
 },
 "nbformat": 4,
 "nbformat_minor": 5
}
