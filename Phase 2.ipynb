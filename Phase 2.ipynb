{
 "cells": [
  {
   "cell_type": "markdown",
   "id": "8255858b",
   "metadata": {},
   "source": [
    "# Phase II: Data Curation, Exploratory Analysis and Plotting\n",
    "We plan on using [U.S. Department of Transportation's (DOT) Bureau of Transportation Statistics' 2015 Flight Delays and Cancellations dataset from Kaggle](https://www.kaggle.com/datasets/usdot/flight-delays) which contains airline data, airport data, and detailed flight data from 2015.\n",
    "\n",
    "Using these data, we want to determine:\n",
    "1. What causes or correlations (time of travel, weather, etc) we can link to delays and cancellations — can we make predictions or improve these?\n",
    "2. What causes or correlations can we link to accidents? How can we use these to improve air travel safety?"
   ]
  },
  {
   "cell_type": "markdown",
   "id": "e27d6393",
   "metadata": {},
   "source": [
    "## Data Collection\n",
    "\n",
    "This dataset can be imported from Kaggle using the [Kaggle Hub Client Library](https://github.com/Kaggle/kagglehub) which makes it easy to import the data for use with Pandas DataFrames."
   ]
  },
  {
   "cell_type": "code",
   "execution_count": null,
   "id": "9cf52da1",
   "metadata": {},
   "outputs": [],
   "source": [
    "import kagglehub\n",
    "path = kagglehub.dataset_download(\"usdot/flight-delays\")"
   ]
  },
  {
   "cell_type": "code",
   "execution_count": null,
   "id": "bd3ea659",
   "metadata": {},
   "outputs": [],
   "source": [
    "import pandas as pd\n",
    "\n",
    "airlines_df = pd.read_csv(path + \"/airlines.csv\", low_memory=False, encoding='UTF-8')\n",
    "airports_df = pd.read_csv(path + \"/airports.csv\", low_memory=False, encoding='UTF-8')\n",
    "flights_df = pd.read_csv(path + \"/flights.csv\", low_memory=False, encoding='UTF-8')"
   ]
  },
  {
   "cell_type": "markdown",
   "id": "75a59887",
   "metadata": {},
   "source": [
    "## Data Cleanup\n",
    "\n",
    "Merges the 3 DataFrames together, first by removing their file name prefixes from the column names. Then, by adding in airport information for both the origin and destination airport (merges the Airports DF twice technically), and then joins the airlines table with the flights table. Lastly, we create a datetime object from the existing date columns"
   ]
  },
  {
   "cell_type": "code",
   "execution_count": null,
   "id": "536c96d7",
   "metadata": {},
   "outputs": [],
   "source": [
    "# Remove file name prefix from column names\n",
    "airlines_df.columns = airlines_df.columns.str.replace(r'^airlines\\.csv/', '', regex=True)\n",
    "airlines_df.rename(columns={'AIRLINE': 'AIRLINE NAME'}, inplace=True)\n",
    "\n",
    "airports_df.columns = airports_df.columns.str.replace(r'^airports\\.csv/', '', regex=True)\n",
    "\n",
    "flights_df.columns = flights_df.columns.str.replace(r'^flights\\.csv/', '', regex=True)"
   ]
  },
  {
   "cell_type": "code",
   "execution_count": null,
   "id": "56234dab",
   "metadata": {},
   "outputs": [],
   "source": [
    "# Join airports data to flights table\n",
    "origin_airports = airports_df.add_prefix('origin_airport/')\n",
    "destination_airports = airports_df.add_prefix('destination_airport/')\n",
    "\n",
    "flights_df = flights_df.join(origin_airports.set_index('origin_airport/IATA_CODE'), on='ORIGIN_AIRPORT')\n",
    "flights_df = flights_df.join(destination_airports.set_index('destination_airport/IATA_CODE'), on='DESTINATION_AIRPORT')"
   ]
  },
  {
   "cell_type": "code",
   "execution_count": null,
   "id": "62ae67c7",
   "metadata": {},
   "outputs": [],
   "source": [
    "# Join airlines data to flights table\n",
    "flights_df = flights_df.join(airlines_df.set_index('IATA_CODE'), on='AIRLINE')"
   ]
  },
  {
   "cell_type": "code",
   "execution_count": null,
   "id": "9c87a041",
   "metadata": {},
   "outputs": [],
   "source": [
    "# Create DATE column from YEAR, MONTH, DAY, and SCHEDULED_DEPARTURE columns\n",
    "flights_df['DATE'] = pd.to_datetime(\n",
    "    flights_df['YEAR'].astype(str) + '-' +\n",
    "    flights_df['MONTH'].astype(str) + '-' +\n",
    "    flights_df['DAY'].astype(str) + ' ' +\n",
    "    flights_df['SCHEDULED_DEPARTURE'].astype(str).str.zfill(4),\n",
    "    format='%Y-%m-%d %H%M'\n",
    ")"
   ]
  },
  {
   "cell_type": "code",
   "execution_count": null,
   "id": "96b0a6ef",
   "metadata": {},
   "outputs": [],
   "source": [
    "flights_df.head()"
   ]
  },
  {
   "cell_type": "markdown",
   "id": "537e9611",
   "metadata": {},
   "source": [
    "## Data Visualization"
   ]
  },
  {
   "cell_type": "code",
   "execution_count": null,
   "id": "86661daa",
   "metadata": {},
   "outputs": [],
   "source": [
    "import altair as alt\n",
    "import seaborn as sns\n",
    "import matplotlib.pyplot as plt\n",
    "import plotly.express as px\n",
    "\n",
    "alt.data_transformers.disable_max_rows()"
   ]
  }
 ],
 "metadata": {
  "kernelspec": {
   "display_name": "base",
   "language": "python",
   "name": "python3"
  },
  "language_info": {
   "codemirror_mode": {
    "name": "ipython",
    "version": 3
   },
   "file_extension": ".py",
   "mimetype": "text/x-python",
   "name": "python",
   "nbconvert_exporter": "python",
   "pygments_lexer": "ipython3",
   "version": "3.12.2"
  }
 },
 "nbformat": 4,
 "nbformat_minor": 5
}
