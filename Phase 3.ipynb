{
    "cells": [
     {
      "cell_type": "markdown",
      "id": "8255858b",
      "metadata": {},
      "source": [
       "# Phase III: First ML Model Proof of Concept w/ Discussion of Ethical Considerations"
      ]
     },
     {
      "cell_type": "code",
      "execution_count": null,
      "id": "928acd09",
      "metadata": {},
      "outputs": [],
      "source": [
       "import pandas as pd"
      ]
     },
     {
      "cell_type": "code",
      "execution_count": null,
      "id": "d5783c09",
      "metadata": {},
      "outputs": [],
      "source": [
       "flights_df = pd.read_parquet(\"cleaned_flights.parquet\")"
      ]
     },
     {
      "cell_type": "code",
      "execution_count": null,
      "id": "1783ef1c",
      "metadata": {},
      "outputs": [],
      "source": [
       "# Filter the DataFrame to include only delayed flights\n",
       "delayed_flights = flights_df[flights_df['ARRIVAL_DELAY'] > 0]\n",
       "delayed_flights.head()"
      ]
     },
     {
      "cell_type": "markdown",
      "id": "d0fc2907",
      "metadata": {},
      "source": [
       "## Numpy ML Model"
      ]
     },
     {
      "cell_type": "code",
      "execution_count": null,
      "id": "192d5b73",
      "metadata": {},
      "outputs": [],
      "source": [
       "import numpy as np"
      ]
     },
     {
      "cell_type": "code",
      "execution_count": null,
      "id": "5e1b36c0",
      "metadata": {},
      "outputs": [],
      "source": [
       "# Extract features (3 columns) and target\n",
       "X = delayed_flights[['MONTH', 'SCHEDULED_DEPARTURE', 'DAY_OF_WEEK']].values\n",
       "y = delayed_flights['ARRIVAL_DELAY'].values"
      ]
     },
     {
      "cell_type": "code",
      "execution_count": null,
      "id": "9ed2dd89",
      "metadata": {},
      "outputs": [],
      "source": [
       "# Simple train/test split (e.g. 80% train, 20% test)\n",
       "split_idx = int(0.8 * len(X))\n",
       "X_train, y_train = X[:split_idx], y[:split_idx]\n",
       "X_test,  y_test  = X[split_idx:], y[split_idx:]"
      ]
     },
     {
      "cell_type": "code",
      "execution_count": null,
      "id": "86390a85",
      "metadata": {},
      "outputs": [],
      "source": [
       "# Add a column of 1s for the intercept\n",
       "ones_train = np.ones((X_train.shape[0], 1))\n",
       "X_train_design = np.hstack((ones_train, X_train))\n",
       "\n",
       "ones_test = np.ones((X_test.shape[0], 1))\n",
       "X_test_design = np.hstack((ones_test, X_test))"
      ]
     },
     {
      "cell_type": "code",
      "execution_count": null,
      "id": "a1e79e0d",
      "metadata": {},
      "outputs": [],
      "source": [
       "# Normal equation: w = (XᵀX)⁻¹ Xᵀy\n",
       "w = np.linalg.inv(X_train_design.T @ X_train_design) @ (X_train_design.T @ y_train)\n",
       "\n",
       "# Predictions\n",
       "y_pred = X_test_design @ w\n",
       "\n",
       "# Evaluate with MSE\n",
       "mse = np.mean((y_test - y_pred)**2)\n",
       "print(\"MSE:\", mse)\n",
       "print(\"Intercept:\", w[0])\n",
       "print(\"Coefficients (MONTH, SCHEDULED_DEPARTURE, DAY_OF_WEEK):\", w[1:])\n",
       "\n",
       "# Compute R²\n",
       "ss_res = np.sum((y_test - y_pred) ** 2)\n",
       "ss_tot = np.sum((y_test - np.mean(y_test)) ** 2)\n",
       "r2 = 1 - (ss_res / ss_tot)\n",
       "print(\"R²:\", r2)"
      ]
     },
     {
      "cell_type": "markdown",
      "id": "3e9e937f",
      "metadata": {},
      "source": [
       "### Find optimal and least optimal flight features"
      ]
     },
     {
      "cell_type": "code",
      "execution_count": null,
      "id": "fda6f16b",
      "metadata": {},
      "outputs": [],
      "source": [
       "# Add intercept\n",
       "ones = np.ones((X.shape[0], 1))\n",
       "X_design = np.hstack((ones, X))\n",
       "\n",
       "# Generate predictions\n",
       "y_pred = X_design @ w\n",
       "\n",
       "# Find indices for min/max predicted delays\n",
       "best_idx = np.argmin(y_pred)\n",
       "worst_idx = np.argmax(y_pred)\n",
       "\n",
       "# Retrieve flights\n",
       "best_flight = delayed_flights.iloc[best_idx]\n",
       "worst_flight = delayed_flights.iloc[worst_idx]"
      ]
     },
     {
      "cell_type": "code",
      "execution_count": null,
      "id": "78c16e31",
      "metadata": {},
      "outputs": [],
      "source": [
       "print(\"Best flight (lowest predicted delay):\")\n",
       "print(best_flight[['MONTH', 'SCHEDULED_DEPARTURE', 'DAY_OF_WEEK']])\n",
       "print(\"Predicted delay (minutes):\", y_pred[best_idx])"
      ]
     },
     {
      "cell_type": "code",
      "execution_count": null,
      "id": "486c4b29",
      "metadata": {},
      "outputs": [],
      "source": [
       "print(\"Worst flight (highest predicted delay):\")\n",
       "print(worst_flight[['MONTH', 'SCHEDULED_DEPARTURE', 'DAY_OF_WEEK']])\n",
       "print(\"Predicted delay (minutes):\", y_pred[worst_idx])"
      ]
     }
    ],
    "metadata": {
     "kernelspec": {
      "display_name": "base",
      "language": "python",
      "name": "python3"
     },
     "language_info": {
      "codemirror_mode": {
       "name": "ipython",
       "version": 3
      },
      "file_extension": ".py",
      "mimetype": "text/x-python",
      "name": "python",
      "nbconvert_exporter": "python",
      "pygments_lexer": "ipython3",
      "version": "3.12.2"
     }
    },
    "nbformat": 4,
    "nbformat_minor": 5
   }