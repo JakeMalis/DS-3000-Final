{
    "cells": [
     {
      "cell_type": "markdown",
      "id": "8255858b",
      "metadata": {},
      "source": [
       "# Phase III: First ML Model Proof of Concept w/ Discussion of Ethical Considerations"
      ]
     },
     {
      "cell_type": "code",
      "execution_count": null,
      "id": "928acd09",
      "metadata": {},
      "outputs": [],
      "source": [
       "import pandas as pd"
      ]
     },
     {
      "cell_type": "code",
      "execution_count": null,
      "id": "d5783c09",
      "metadata": {},
      "outputs": [],
      "source": [
       "flights_df = pd.read_parquet(\"cleaned_flights.parquet\")"
      ]
     },
     {
      "cell_type": "code",
      "execution_count": null,
      "id": "1783ef1c",
      "metadata": {},
      "outputs": [],
      "source": [
       "# Extract the hour from the 'DATE' column and create a new column 'DEPARTURE_HOUR'\n",
       "flights_df['DEPARTURE_HOUR'] = flights_df['DATE'].dt.hour\n",
       "\n",
       "# Filter the DataFrame to include only delayed flights\n",
       "delayed_flights = flights_df[flights_df['ARRIVAL_DELAY'] > 0]\n",
       "delayed_flights.head()"
      ]
     },
     {
      "cell_type": "markdown",
      "id": "d0fc2907",
      "metadata": {},
      "source": [
       "## Numpy ML Model"
      ]
     },
     {
      "cell_type": "code",
      "execution_count": null,
      "id": "192d5b73",
      "metadata": {},
      "outputs": [],
      "source": [
       "import numpy as np"
      ]
     },
     {
      "cell_type": "code",
      "execution_count": null,
      "id": "db1e9dcc",
      "metadata": {},
      "outputs": [],
      "source": [
       "# Standardize numeric columns including DISTANCE\n",
       "for col in ['MONTH', 'DEPARTURE_HOUR', 'DAY_OF_WEEK', 'DISTANCE']:\n",
       "    col_mean = delayed_flights[col].mean()\n",
       "    col_std  = delayed_flights[col].std()\n",
       "    delayed_flights[col] = (delayed_flights[col] - col_mean) / col_std"
      ]
     },
     {
      "cell_type": "code",
      "execution_count": null,
      "id": "5e1b36c0",
      "metadata": {},
      "outputs": [],
      "source": [
       "# Extract features: numeric and categorical features\n",
       "numeric_feats = delayed_flights[['MONTH', 'DEPARTURE_HOUR', 'DAY_OF_WEEK', 'DISTANCE']].values\n",
       "categorical_feats = pd.get_dummies(delayed_flights[['AIRLINE', 'ORIGIN_AIRPORT']]).values\n",
       "X = np.hstack([numeric_feats, categorical_feats])\n",
       "y = delayed_flights['ARRIVAL_DELAY'].values"
      ]
     },
     {
      "cell_type": "code",
      "execution_count": null,
      "id": "9ed2dd89",
      "metadata": {},
      "outputs": [],
      "source": [
       "# Simple train/test split (e.g. 80% train, 20% test)\n",
       "split_idx = int(0.8 * len(X))\n",
       "X_train, y_train = X[:split_idx], y[:split_idx]\n",
       "X_test,  y_test  = X[split_idx:], y[split_idx:]"
      ]
     },
     {
      "cell_type": "code",
      "execution_count": null,
      "id": "86390a85",
      "metadata": {},
      "outputs": [],
      "source": [
       "# Add a column of 1s for the intercept\n",
       "ones_train = np.ones((X_train.shape[0], 1))\n",
       "X_train_design = np.hstack((ones_train, X_train))\n",
       "\n",
       "ones_test = np.ones((X_test.shape[0], 1))\n",
       "X_test_design = np.hstack((ones_test, X_test))"
      ]
     },
     {
      "cell_type": "code",
      "execution_count": null,
      "id": "a1e79e0d",
      "metadata": {},
      "outputs": [],
      "source": [
       "# Normal equation using pseudo-inverse to handle singular matrix: w = (XᵀX)⁺ Xᵀy\n",
       "w = np.linalg.pinv(X_train_design.T @ X_train_design) @ (X_train_design.T @ y_train)\n",
       "\n",
       "# Predictions\n",
       "y_pred = X_test_design @ w\n",
       "\n",
       "# Evaluate with MSE\n",
       "mse = np.mean((y_test - y_pred)**2)\n",
       "print(\"MSE:\", mse)\n",
       "print(\"Intercept:\", w[0])\n",
       "print(\"Coefficients (MONTH, DEPARTURE_HOUR, DAY_OF_WEEK):\", w[1:])\n",
       "\n",
       "# Compute R²\n",
       "ss_res = np.sum((y_test - y_pred) ** 2)\n",
       "ss_tot = np.sum((y_test - np.mean(y_test)) ** 2)\n",
       "r2 = 1 - (ss_res / ss_tot)\n",
       "print(\"R²:\", r2)"
      ]
     },
     {
      "cell_type": "markdown",
      "id": "3e9e937f",
      "metadata": {},
      "source": [
       "### Find optimal and least optimal flight features"
      ]
     },
     {
      "cell_type": "code",
      "execution_count": null,
      "id": "fda6f16b",
      "metadata": {},
      "outputs": [],
      "source": [
       "# Add intercept\n",
       "ones = np.ones((X.shape[0], 1))\n",
       "X_design = np.hstack((ones, X))\n",
       "\n",
       "# Generate predictions\n",
       "y_pred = X_design @ w\n",
       "\n",
       "# Find indices for min/max predicted delays\n",
       "best_idx = np.argmin(y_pred)\n",
       "worst_idx = np.argmax(y_pred)\n",
       "\n",
       "# Retrieve flights\n",
       "best_flight = delayed_flights.iloc[best_idx]\n",
       "worst_flight = delayed_flights.iloc[worst_idx]"
      ]
     },
     {
      "cell_type": "code",
      "execution_count": null,
      "id": "78c16e31",
      "metadata": {},
      "outputs": [],
      "source": [
       "print(\"Best flight (lowest predicted delay):\")\n",
       "print(best_flight[['MONTH', 'DEPARTURE_HOUR', 'DAY_OF_WEEK']])\n",
       "print(\"Predicted delay (minutes):\", y_pred[best_idx])"
      ]
     },
     {
      "cell_type": "code",
      "execution_count": null,
      "id": "486c4b29",
      "metadata": {},
      "outputs": [],
      "source": [
       "print(\"Worst flight (highest predicted delay):\")\n",
       "print(worst_flight[['MONTH', 'DEPARTURE_HOUR', 'DAY_OF_WEEK']])\n",
       "print(\"Predicted delay (minutes):\", y_pred[worst_idx])"
      ]
     },
     {
      "cell_type": "markdown",
      "id": "dd123904",
      "metadata": {},
      "source": [
       "## NumPy Quadratic ML Model\n",
       "*Note*: It was way too hard to use categorical data with NumPy for non-linear models, so we will do that in the future with sklearn"
      ]
     },
     {
      "cell_type": "code",
      "execution_count": null,
      "id": "a4fbd486",
      "metadata": {},
      "outputs": [],
      "source": [
       "# Quadratic feature expansion\n",
       "month_sq = delayed_flights['MONTH'] ** 2\n",
       "sched_dep_sq = delayed_flights['DEPARTURE_HOUR'] ** 2\n",
       "dow_sq = delayed_flights['DAY_OF_WEEK'] ** 2\n",
       "distance_sq = delayed_flights['DISTANCE'] ** 2\n",
       "interaction_1 = delayed_flights['MONTH'] * delayed_flights['DEPARTURE_HOUR']\n",
       "interaction_2 = delayed_flights['MONTH'] * delayed_flights['DAY_OF_WEEK']\n",
       "interaction_3 = delayed_flights['DEPARTURE_HOUR'] * delayed_flights['DAY_OF_WEEK']\n",
       "interaction_4 = delayed_flights['MONTH'] * delayed_flights['DISTANCE']\n",
       "interaction_5 = delayed_flights['DEPARTURE_HOUR'] * delayed_flights['DISTANCE']\n",
       "interaction_6 = delayed_flights['DAY_OF_WEEK'] * delayed_flights['DISTANCE']\n",
       "\n",
       "# Combine original and new features\n",
       "X_quad = np.column_stack([\n",
       "    delayed_flights['MONTH'],\n",
       "    delayed_flights['DEPARTURE_HOUR'],\n",
       "    delayed_flights['DAY_OF_WEEK'],\n",
       "    delayed_flights['DISTANCE'],\n",
       "    month_sq,\n",
       "    sched_dep_sq,\n",
       "    dow_sq,\n",
       "    distance_sq,\n",
       "    interaction_1,\n",
       "    interaction_2,\n",
       "    interaction_3,\n",
       "    interaction_4,\n",
       "    interaction_5,\n",
       "    interaction_6\n",
       "])\n",
       "y_quad = delayed_flights['ARRIVAL_DELAY'].values\n",
       "\n",
       "# Train/test split\n",
       "split_idx = int(0.8 * len(X_quad))\n",
       "X_train_quad, y_train_quad = X_quad[:split_idx], y_quad[:split_idx]\n",
       "X_test_quad,  y_test_quad  = X_quad[split_idx:], y_quad[split_idx:]\n",
       "\n",
       "# Add intercept\n",
       "ones_train_quad = np.ones((X_train_quad.shape[0], 1))\n",
       "X_train_design_quad = np.hstack((ones_train_quad, X_train_quad))\n",
       "\n",
       "ones_test_quad = np.ones((X_test_quad.shape[0], 1))\n",
       "X_test_design_quad = np.hstack((ones_test_quad, X_test_quad))\n",
       "\n",
       "# Normal equation for quadratic features\n",
       "w_quad = np.linalg.inv(X_train_design_quad.T @ X_train_design_quad) @ (X_train_design_quad.T @ y_train_quad)\n",
       "\n",
       "# Predictions\n",
       "y_pred_quad = X_test_design_quad @ w_quad\n",
       "mse_quad = np.mean((y_test_quad - y_pred_quad)**2)\n",
       "print(\"Quadratic MSE:\", mse_quad)"
      ]
     }
    ],
    "metadata": {
     "kernelspec": {
      "display_name": "base",
      "language": "python",
      "name": "python3"
     },
     "language_info": {
      "codemirror_mode": {
       "name": "ipython",
       "version": 3
      },
      "file_extension": ".py",
      "mimetype": "text/x-python",
      "name": "python",
      "nbconvert_exporter": "python",
      "pygments_lexer": "ipython3",
      "version": "3.12.2"
     }
    },
    "nbformat": 4,
    "nbformat_minor": 5
   }
   