{
    "cells": [
     {
      "cell_type": "markdown",
      "id": "8255858b",
      "metadata": {},
      "source": [
       "# Phase III: First ML Model Proof of Concept w/ Discussion of Ethical Considerations"
      ]
     },
     {
      "cell_type": "code",
      "execution_count": 1,
      "id": "928acd09",
      "metadata": {},
      "outputs": [],
      "source": [
       "import pandas as pd"
      ]
     },
     {
      "cell_type": "code",
      "execution_count": 2,
      "id": "d5783c09",
      "metadata": {},
      "outputs": [],
      "source": [
       "flights_df = pd.read_parquet(\"cleaned_flights.parquet\")"
      ]
     },
     {
      "cell_type": "code",
      "execution_count": 3,
      "id": "1783ef1c",
      "metadata": {},
      "outputs": [
       {
        "data": {
         "application/vnd.microsoft.datawrangler.viewer.v0+json": {
          "columns": [
           {
            "name": "index",
            "rawType": "int64",
            "type": "integer"
           },
           {
            "name": "YEAR",
            "rawType": "int64",
            "type": "integer"
           },
           {
            "name": "MONTH",
            "rawType": "int64",
            "type": "integer"
           },
           {
            "name": "DAY",
            "rawType": "int64",
            "type": "integer"
           },
           {
            "name": "DAY_OF_WEEK",
            "rawType": "int64",
            "type": "integer"
           },
           {
            "name": "AIRLINE",
            "rawType": "object",
            "type": "string"
           },
           {
            "name": "FLIGHT_NUMBER",
            "rawType": "int64",
            "type": "integer"
           },
           {
            "name": "TAIL_NUMBER",
            "rawType": "object",
            "type": "string"
           },
           {
            "name": "ORIGIN_AIRPORT",
            "rawType": "object",
            "type": "string"
           },
           {
            "name": "DESTINATION_AIRPORT",
            "rawType": "object",
            "type": "string"
           },
           {
            "name": "SCHEDULED_DEPARTURE",
            "rawType": "int64",
            "type": "integer"
           },
           {
            "name": "DEPARTURE_TIME",
            "rawType": "float64",
            "type": "float"
           },
           {
            "name": "DEPARTURE_DELAY",
            "rawType": "float64",
            "type": "float"
           },
           {
            "name": "TAXI_OUT",
            "rawType": "float64",
            "type": "float"
           },
           {
            "name": "WHEELS_OFF",
            "rawType": "float64",
            "type": "float"
           },
           {
            "name": "SCHEDULED_TIME",
            "rawType": "float64",
            "type": "float"
           },
           {
            "name": "ELAPSED_TIME",
            "rawType": "float64",
            "type": "float"
           },
           {
            "name": "AIR_TIME",
            "rawType": "float64",
            "type": "float"
           },
           {
            "name": "DISTANCE",
            "rawType": "int64",
            "type": "integer"
           },
           {
            "name": "WHEELS_ON",
            "rawType": "float64",
            "type": "float"
           },
           {
            "name": "TAXI_IN",
            "rawType": "float64",
            "type": "float"
           },
           {
            "name": "SCHEDULED_ARRIVAL",
            "rawType": "int64",
            "type": "integer"
           },
           {
            "name": "ARRIVAL_TIME",
            "rawType": "float64",
            "type": "float"
           },
           {
            "name": "ARRIVAL_DELAY",
            "rawType": "float64",
            "type": "float"
           },
           {
            "name": "DIVERTED",
            "rawType": "int64",
            "type": "integer"
           },
           {
            "name": "CANCELLED",
            "rawType": "int64",
            "type": "integer"
           },
           {
            "name": "CANCELLATION_REASON",
            "rawType": "object",
            "type": "unknown"
           },
           {
            "name": "AIR_SYSTEM_DELAY",
            "rawType": "float64",
            "type": "float"
           },
           {
            "name": "SECURITY_DELAY",
            "rawType": "float64",
            "type": "float"
           },
           {
            "name": "AIRLINE_DELAY",
            "rawType": "float64",
            "type": "float"
           },
           {
            "name": "LATE_AIRCRAFT_DELAY",
            "rawType": "float64",
            "type": "float"
           },
           {
            "name": "WEATHER_DELAY",
            "rawType": "float64",
            "type": "float"
           },
           {
            "name": "origin_airport/AIRPORT",
            "rawType": "object",
            "type": "string"
           },
           {
            "name": "origin_airport/CITY",
            "rawType": "object",
            "type": "string"
           },
           {
            "name": "origin_airport/STATE",
            "rawType": "object",
            "type": "string"
           },
           {
            "name": "origin_airport/COUNTRY",
            "rawType": "object",
            "type": "string"
           },
           {
            "name": "origin_airport/LATITUDE",
            "rawType": "float64",
            "type": "float"
           },
           {
            "name": "origin_airport/LONGITUDE",
            "rawType": "float64",
            "type": "float"
           },
           {
            "name": "destination_airport/AIRPORT",
            "rawType": "object",
            "type": "string"
           },
           {
            "name": "destination_airport/CITY",
            "rawType": "object",
            "type": "string"
           },
           {
            "name": "destination_airport/STATE",
            "rawType": "object",
            "type": "string"
           },
           {
            "name": "destination_airport/COUNTRY",
            "rawType": "object",
            "type": "string"
           },
           {
            "name": "destination_airport/LATITUDE",
            "rawType": "float64",
            "type": "float"
           },
           {
            "name": "destination_airport/LONGITUDE",
            "rawType": "float64",
            "type": "float"
           },
           {
            "name": "AIRLINE NAME",
            "rawType": "object",
            "type": "string"
           },
           {
            "name": "DATE",
            "rawType": "datetime64[ns]",
            "type": "datetime"
           },
           {
            "name": "DEPARTURE_HOUR",
            "rawType": "int32",
            "type": "integer"
           }
          ],
          "conversionMethod": "pd.DataFrame",
          "ref": "71738d34-5ed1-422e-b869-51a0e07573b1",
          "rows": [
           [
            "2",
            "2015",
            "1",
            "1",
            "4",
            "US",
            "840",
            "N171US",
            "SFO",
            "CLT",
            "20",
            "18.0",
            "-2.0",
            "16.0",
            "34.0",
            "286.0",
            "293.0",
            "266.0",
            "2296",
            "800.0",
            "11.0",
            "806",
            "811.0",
            "5.0",
            "0",
            "0",
            null,
            null,
            null,
            null,
            null,
            null,
            "San Francisco International Airport",
            "San Francisco",
            "CA",
            "USA",
            "37.619",
            "-122.37484",
            "Charlotte Douglas International Airport",
            "Charlotte",
            "NC",
            "USA",
            "35.21401",
            "-80.94313",
            "US Airways Inc.",
            "2015-01-01 00:20:00",
            "0"
           ],
           [
            "5",
            "2015",
            "1",
            "1",
            "4",
            "DL",
            "806",
            "N3730B",
            "SFO",
            "MSP",
            "25",
            "20.0",
            "-5.0",
            "18.0",
            "38.0",
            "217.0",
            "230.0",
            "206.0",
            "1589",
            "604.0",
            "6.0",
            "602",
            "610.0",
            "8.0",
            "0",
            "0",
            null,
            null,
            null,
            null,
            null,
            null,
            "San Francisco International Airport",
            "San Francisco",
            "CA",
            "USA",
            "37.619",
            "-122.37484",
            "Minneapolis-Saint Paul International Airport",
            "Minneapolis",
            "MN",
            "USA",
            "44.88055",
            "-93.21692",
            "Delta Air Lines Inc.",
            "2015-01-01 00:25:00",
            "0"
           ],
           [
            "14",
            "2015",
            "1",
            "1",
            "4",
            "DL",
            "2440",
            "N651DL",
            "SEA",
            "MSP",
            "40",
            "39.0",
            "-1.0",
            "28.0",
            "107.0",
            "189.0",
            "198.0",
            "166.0",
            "1399",
            "553.0",
            "4.0",
            "549",
            "557.0",
            "8.0",
            "0",
            "0",
            null,
            null,
            null,
            null,
            null,
            null,
            "Seattle-Tacoma International Airport",
            "Seattle",
            "WA",
            "USA",
            "47.44898",
            "-122.30931",
            "Minneapolis-Saint Paul International Airport",
            "Minneapolis",
            "MN",
            "USA",
            "44.88055",
            "-93.21692",
            "Delta Air Lines Inc.",
            "2015-01-01 00:40:00",
            "0"
           ],
           [
            "20",
            "2015",
            "1",
            "1",
            "4",
            "NK",
            "520",
            "N525NK",
            "LAS",
            "MCI",
            "55",
            "120.0",
            "25.0",
            "11.0",
            "131.0",
            "162.0",
            "143.0",
            "128.0",
            "1139",
            "539.0",
            "4.0",
            "537",
            "543.0",
            "6.0",
            "0",
            "0",
            null,
            null,
            null,
            null,
            null,
            null,
            "McCarran International Airport",
            "Las Vegas",
            "NV",
            "USA",
            "36.08036",
            "-115.15233",
            "Kansas City International Airport",
            "Kansas City",
            "MO",
            "USA",
            "39.29761",
            "-94.71391",
            "Spirit Air Lines",
            "2015-01-01 00:55:00",
            "0"
           ],
           [
            "21",
            "2015",
            "1",
            "1",
            "4",
            "AA",
            "371",
            "N3GXAA",
            "SEA",
            "MIA",
            "100",
            "52.0",
            "-8.0",
            "30.0",
            "122.0",
            "338.0",
            "347.0",
            "311.0",
            "2724",
            "933.0",
            "6.0",
            "938",
            "939.0",
            "1.0",
            "0",
            "0",
            null,
            null,
            null,
            null,
            null,
            null,
            "Seattle-Tacoma International Airport",
            "Seattle",
            "WA",
            "USA",
            "47.44898",
            "-122.30931",
            "Miami International Airport",
            "Miami",
            "FL",
            "USA",
            "25.79325",
            "-80.29056",
            "American Airlines Inc.",
            "2015-01-01 01:00:00",
            "1"
           ]
          ],
          "shape": {
           "columns": 46,
           "rows": 5
          }
         },
         "text/html": [
          "<div>\n",
          "<style scoped>\n",
          "    .dataframe tbody tr th:only-of-type {\n",
          "        vertical-align: middle;\n",
          "    }\n",
          "\n",
          "    .dataframe tbody tr th {\n",
          "        vertical-align: top;\n",
          "    }\n",
          "\n",
          "    .dataframe thead th {\n",
          "        text-align: right;\n",
          "    }\n",
          "</style>\n",
          "<table border=\"1\" class=\"dataframe\">\n",
          "  <thead>\n",
          "    <tr style=\"text-align: right;\">\n",
          "      <th></th>\n",
          "      <th>YEAR</th>\n",
          "      <th>MONTH</th>\n",
          "      <th>DAY</th>\n",
          "      <th>DAY_OF_WEEK</th>\n",
          "      <th>AIRLINE</th>\n",
          "      <th>FLIGHT_NUMBER</th>\n",
          "      <th>TAIL_NUMBER</th>\n",
          "      <th>ORIGIN_AIRPORT</th>\n",
          "      <th>DESTINATION_AIRPORT</th>\n",
          "      <th>SCHEDULED_DEPARTURE</th>\n",
          "      <th>...</th>\n",
          "      <th>origin_airport/LONGITUDE</th>\n",
          "      <th>destination_airport/AIRPORT</th>\n",
          "      <th>destination_airport/CITY</th>\n",
          "      <th>destination_airport/STATE</th>\n",
          "      <th>destination_airport/COUNTRY</th>\n",
          "      <th>destination_airport/LATITUDE</th>\n",
          "      <th>destination_airport/LONGITUDE</th>\n",
          "      <th>AIRLINE NAME</th>\n",
          "      <th>DATE</th>\n",
          "      <th>DEPARTURE_HOUR</th>\n",
          "    </tr>\n",
          "  </thead>\n",
          "  <tbody>\n",
          "    <tr>\n",
          "      <th>2</th>\n",
          "      <td>2015</td>\n",
          "      <td>1</td>\n",
          "      <td>1</td>\n",
          "      <td>4</td>\n",
          "      <td>US</td>\n",
          "      <td>840</td>\n",
          "      <td>N171US</td>\n",
          "      <td>SFO</td>\n",
          "      <td>CLT</td>\n",
          "      <td>20</td>\n",
          "      <td>...</td>\n",
          "      <td>-122.37484</td>\n",
          "      <td>Charlotte Douglas International Airport</td>\n",
          "      <td>Charlotte</td>\n",
          "      <td>NC</td>\n",
          "      <td>USA</td>\n",
          "      <td>35.21401</td>\n",
          "      <td>-80.94313</td>\n",
          "      <td>US Airways Inc.</td>\n",
          "      <td>2015-01-01 00:20:00</td>\n",
          "      <td>0</td>\n",
          "    </tr>\n",
          "    <tr>\n",
          "      <th>5</th>\n",
          "      <td>2015</td>\n",
          "      <td>1</td>\n",
          "      <td>1</td>\n",
          "      <td>4</td>\n",
          "      <td>DL</td>\n",
          "      <td>806</td>\n",
          "      <td>N3730B</td>\n",
          "      <td>SFO</td>\n",
          "      <td>MSP</td>\n",
          "      <td>25</td>\n",
          "      <td>...</td>\n",
          "      <td>-122.37484</td>\n",
          "      <td>Minneapolis-Saint Paul International Airport</td>\n",
          "      <td>Minneapolis</td>\n",
          "      <td>MN</td>\n",
          "      <td>USA</td>\n",
          "      <td>44.88055</td>\n",
          "      <td>-93.21692</td>\n",
          "      <td>Delta Air Lines Inc.</td>\n",
          "      <td>2015-01-01 00:25:00</td>\n",
          "      <td>0</td>\n",
          "    </tr>\n",
          "    <tr>\n",
          "      <th>14</th>\n",
          "      <td>2015</td>\n",
          "      <td>1</td>\n",
          "      <td>1</td>\n",
          "      <td>4</td>\n",
          "      <td>DL</td>\n",
          "      <td>2440</td>\n",
          "      <td>N651DL</td>\n",
          "      <td>SEA</td>\n",
          "      <td>MSP</td>\n",
          "      <td>40</td>\n",
          "      <td>...</td>\n",
          "      <td>-122.30931</td>\n",
          "      <td>Minneapolis-Saint Paul International Airport</td>\n",
          "      <td>Minneapolis</td>\n",
          "      <td>MN</td>\n",
          "      <td>USA</td>\n",
          "      <td>44.88055</td>\n",
          "      <td>-93.21692</td>\n",
          "      <td>Delta Air Lines Inc.</td>\n",
          "      <td>2015-01-01 00:40:00</td>\n",
          "      <td>0</td>\n",
          "    </tr>\n",
          "    <tr>\n",
          "      <th>20</th>\n",
          "      <td>2015</td>\n",
          "      <td>1</td>\n",
          "      <td>1</td>\n",
          "      <td>4</td>\n",
          "      <td>NK</td>\n",
          "      <td>520</td>\n",
          "      <td>N525NK</td>\n",
          "      <td>LAS</td>\n",
          "      <td>MCI</td>\n",
          "      <td>55</td>\n",
          "      <td>...</td>\n",
          "      <td>-115.15233</td>\n",
          "      <td>Kansas City International Airport</td>\n",
          "      <td>Kansas City</td>\n",
          "      <td>MO</td>\n",
          "      <td>USA</td>\n",
          "      <td>39.29761</td>\n",
          "      <td>-94.71391</td>\n",
          "      <td>Spirit Air Lines</td>\n",
          "      <td>2015-01-01 00:55:00</td>\n",
          "      <td>0</td>\n",
          "    </tr>\n",
          "    <tr>\n",
          "      <th>21</th>\n",
          "      <td>2015</td>\n",
          "      <td>1</td>\n",
          "      <td>1</td>\n",
          "      <td>4</td>\n",
          "      <td>AA</td>\n",
          "      <td>371</td>\n",
          "      <td>N3GXAA</td>\n",
          "      <td>SEA</td>\n",
          "      <td>MIA</td>\n",
          "      <td>100</td>\n",
          "      <td>...</td>\n",
          "      <td>-122.30931</td>\n",
          "      <td>Miami International Airport</td>\n",
          "      <td>Miami</td>\n",
          "      <td>FL</td>\n",
          "      <td>USA</td>\n",
          "      <td>25.79325</td>\n",
          "      <td>-80.29056</td>\n",
          "      <td>American Airlines Inc.</td>\n",
          "      <td>2015-01-01 01:00:00</td>\n",
          "      <td>1</td>\n",
          "    </tr>\n",
          "  </tbody>\n",
          "</table>\n",
          "<p>5 rows × 46 columns</p>\n",
          "</div>"
         ],
         "text/plain": [
          "    YEAR  MONTH  DAY  DAY_OF_WEEK AIRLINE  FLIGHT_NUMBER TAIL_NUMBER  \\\n",
          "2   2015      1    1            4      US            840      N171US   \n",
          "5   2015      1    1            4      DL            806      N3730B   \n",
          "14  2015      1    1            4      DL           2440      N651DL   \n",
          "20  2015      1    1            4      NK            520      N525NK   \n",
          "21  2015      1    1            4      AA            371      N3GXAA   \n",
          "\n",
          "   ORIGIN_AIRPORT DESTINATION_AIRPORT  SCHEDULED_DEPARTURE  ...  \\\n",
          "2             SFO                 CLT                   20  ...   \n",
          "5             SFO                 MSP                   25  ...   \n",
          "14            SEA                 MSP                   40  ...   \n",
          "20            LAS                 MCI                   55  ...   \n",
          "21            SEA                 MIA                  100  ...   \n",
          "\n",
          "    origin_airport/LONGITUDE                   destination_airport/AIRPORT  \\\n",
          "2                 -122.37484       Charlotte Douglas International Airport   \n",
          "5                 -122.37484  Minneapolis-Saint Paul International Airport   \n",
          "14                -122.30931  Minneapolis-Saint Paul International Airport   \n",
          "20                -115.15233             Kansas City International Airport   \n",
          "21                -122.30931                   Miami International Airport   \n",
          "\n",
          "    destination_airport/CITY  destination_airport/STATE  \\\n",
          "2                  Charlotte                         NC   \n",
          "5                Minneapolis                         MN   \n",
          "14               Minneapolis                         MN   \n",
          "20               Kansas City                         MO   \n",
          "21                     Miami                         FL   \n",
          "\n",
          "    destination_airport/COUNTRY  destination_airport/LATITUDE  \\\n",
          "2                           USA                      35.21401   \n",
          "5                           USA                      44.88055   \n",
          "14                          USA                      44.88055   \n",
          "20                          USA                      39.29761   \n",
          "21                          USA                      25.79325   \n",
          "\n",
          "    destination_airport/LONGITUDE            AIRLINE NAME                DATE  \\\n",
          "2                       -80.94313         US Airways Inc. 2015-01-01 00:20:00   \n",
          "5                       -93.21692    Delta Air Lines Inc. 2015-01-01 00:25:00   \n",
          "14                      -93.21692    Delta Air Lines Inc. 2015-01-01 00:40:00   \n",
          "20                      -94.71391        Spirit Air Lines 2015-01-01 00:55:00   \n",
          "21                      -80.29056  American Airlines Inc. 2015-01-01 01:00:00   \n",
          "\n",
          "    DEPARTURE_HOUR  \n",
          "2                0  \n",
          "5                0  \n",
          "14               0  \n",
          "20               0  \n",
          "21               1  \n",
          "\n",
          "[5 rows x 46 columns]"
         ]
        },
        "execution_count": 3,
        "metadata": {},
        "output_type": "execute_result"
       }
      ],
      "source": [
       "# Extract the hour from the 'DATE' column and create a new column 'DEPARTURE_HOUR'\n",
       "flights_df['DEPARTURE_HOUR'] = flights_df['DATE'].dt.hour\n",
       "\n",
       "# Filter the DataFrame to include only delayed flights\n",
       "delayed_flights = flights_df[flights_df['ARRIVAL_DELAY'] > 0]\n",
       "delayed_flights.head()"
      ]
     },
     {
      "cell_type": "markdown",
      "id": "d0fc2907",
      "metadata": {},
      "source": [
       "## Numpy ML Model"
      ]
     },
     {
      "cell_type": "code",
      "execution_count": 4,
      "id": "192d5b73",
      "metadata": {},
      "outputs": [],
      "source": [
       "import numpy as np"
      ]
     },
     {
      "cell_type": "code",
      "execution_count": 5,
      "id": "db1e9dcc",
      "metadata": {},
      "outputs": [
       {
        "name": "stderr",
        "output_type": "stream",
        "text": [
         "/var/folders/xz/181d9jnn2g332ckhjh0ppmyh0000gn/T/ipykernel_89205/2263369305.py:5: SettingWithCopyWarning: \n",
         "A value is trying to be set on a copy of a slice from a DataFrame.\n",
         "Try using .loc[row_indexer,col_indexer] = value instead\n",
         "\n",
         "See the caveats in the documentation: https://pandas.pydata.org/pandas-docs/stable/user_guide/indexing.html#returning-a-view-versus-a-copy\n",
         "  delayed_flights[col] = (delayed_flights[col] - col_mean) / col_std\n"
        ]
       }
      ],
      "source": [
       "# Standardize the three columns in-place\n",
       "for col in ['MONTH', 'DEPARTURE_HOUR', 'DAY_OF_WEEK']:\n",
       "    col_mean = delayed_flights[col].mean()\n",
       "    col_std  = delayed_flights[col].std()\n",
       "    delayed_flights[col] = (delayed_flights[col] - col_mean) / col_std"
      ]
     },
     {
      "cell_type": "code",
      "execution_count": 6,
      "id": "5e1b36c0",
      "metadata": {},
      "outputs": [],
      "source": [
       "# Extract features (3 columns) and target\n",
       "X = delayed_flights[['MONTH', 'DEPARTURE_HOUR', 'DAY_OF_WEEK']].values\n",
       "y = delayed_flights['ARRIVAL_DELAY'].values"
      ]
     },
     {
      "cell_type": "code",
      "execution_count": 7,
      "id": "9ed2dd89",
      "metadata": {},
      "outputs": [],
      "source": [
       "# Simple train/test split (e.g. 80% train, 20% test)\n",
       "split_idx = int(0.8 * len(X))\n",
       "X_train, y_train = X[:split_idx], y[:split_idx]\n",
       "X_test,  y_test  = X[split_idx:], y[split_idx:]"
      ]
     },
     {
      "cell_type": "code",
      "execution_count": 8,
      "id": "86390a85",
      "metadata": {},
      "outputs": [],
      "source": [
       "# Add a column of 1s for the intercept\n",
       "ones_train = np.ones((X_train.shape[0], 1))\n",
       "X_train_design = np.hstack((ones_train, X_train))\n",
       "\n",
       "ones_test = np.ones((X_test.shape[0], 1))\n",
       "X_test_design = np.hstack((ones_test, X_test))"
      ]
     },
     {
      "cell_type": "code",
      "execution_count": null,
      "id": "a1e79e0d",
      "metadata": {},
      "outputs": [
       {
        "name": "stdout",
        "output_type": "stream",
        "text": [
         "MSE: 3090.256435323303\n",
         "Intercept: 33.012842161111024\n",
         "Coefficients (MONTH, DEPARTURE_HOUR, DAY_OF_WEEK): [-0.70182906  3.61499703 -1.06713248]\n"
        ]
       }
      ],
      "source": [
       "# Normal equation: w = (XᵀX)⁻¹ Xᵀy\n",
       "w = np.linalg.inv(X_train_design.T @ X_train_design) @ (X_train_design.T @ y_train)\n",
       "\n",
       "# Predictions\n",
       "y_pred = X_test_design @ w\n",
       "\n",
       "# Evaluate with MSE\n",
       "mse = np.mean((y_test - y_pred)**2)\n",
       "print(\"MSE:\", mse)\n",
       "print(\"Intercept:\", w[0])\n",
       "print(\"Coefficients (MONTH, DEPARTURE_HOUR, DAY_OF_WEEK):\", w[1:])\n",
       "\n",
       "# Compute R²\n",
       "ss_res = np.sum((y_test - y_pred) ** 2)\n",
       "ss_tot = np.sum((y_test - np.mean(y_test)) ** 2)\n",
       "r2 = 1 - (ss_res / ss_tot)\n",
       "print(\"R²:\", r2)"
      ]
     },
     {
      "cell_type": "markdown",
      "id": "3e9e937f",
      "metadata": {},
      "source": [
       "### Find optimal and least optimal flight features"
      ]
     },
     {
      "cell_type": "code",
      "execution_count": 10,
      "id": "fda6f16b",
      "metadata": {},
      "outputs": [],
      "source": [
       "# Add intercept\n",
       "ones = np.ones((X.shape[0], 1))\n",
       "X_design = np.hstack((ones, X))\n",
       "\n",
       "# Generate predictions\n",
       "y_pred = X_design @ w\n",
       "\n",
       "# Find indices for min/max predicted delays\n",
       "best_idx = np.argmin(y_pred)\n",
       "worst_idx = np.argmax(y_pred)\n",
       "\n",
       "# Retrieve flights\n",
       "best_flight = delayed_flights.iloc[best_idx]\n",
       "worst_flight = delayed_flights.iloc[worst_idx]"
      ]
     },
     {
      "cell_type": "code",
      "execution_count": 11,
      "id": "78c16e31",
      "metadata": {},
      "outputs": [
       {
        "name": "stdout",
        "output_type": "stream",
        "text": [
         "Best flight (lowest predicted delay):\n",
         "MONTH              1.66641\n",
         "DEPARTURE_HOUR    -2.95381\n",
         "DAY_OF_WEEK       1.573269\n",
         "Name: 5416225, dtype: object\n",
         "Predicted delay (minutes): 19.4864073638952\n"
        ]
       }
      ],
      "source": [
       "print(\"Best flight (lowest predicted delay):\")\n",
       "print(best_flight[['MONTH', 'DEPARTURE_HOUR', 'DAY_OF_WEEK']])\n",
       "print(\"Predicted delay (minutes):\", y_pred[best_idx])"
      ]
     },
     {
      "cell_type": "code",
      "execution_count": 12,
      "id": "486c4b29",
      "metadata": {},
      "outputs": [
       {
        "name": "stdout",
        "output_type": "stream",
        "text": [
         "Worst flight (highest predicted delay):\n",
         "MONTH            -1.554436\n",
         "DEPARTURE_HOUR    1.962947\n",
         "DAY_OF_WEEK      -1.472853\n",
         "Name: 78917, dtype: object\n",
         "Predicted delay (minutes): 42.771567579892384\n"
        ]
       }
      ],
      "source": [
       "print(\"Worst flight (highest predicted delay):\")\n",
       "print(worst_flight[['MONTH', 'DEPARTURE_HOUR', 'DAY_OF_WEEK']])\n",
       "print(\"Predicted delay (minutes):\", y_pred[worst_idx])"
      ]
     }
    ],
    "metadata": {
     "kernelspec": {
      "display_name": "base",
      "language": "python",
      "name": "python3"
     },
     "language_info": {
      "codemirror_mode": {
       "name": "ipython",
       "version": 3
      },
      "file_extension": ".py",
      "mimetype": "text/x-python",
      "name": "python",
      "nbconvert_exporter": "python",
      "pygments_lexer": "ipython3",
      "version": "3.12.2"
     }
    },
    "nbformat": 4,
    "nbformat_minor": 5
   }