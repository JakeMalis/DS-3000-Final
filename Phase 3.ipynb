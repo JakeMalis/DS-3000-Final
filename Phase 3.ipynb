{
 "cells": [
  {
   "cell_type": "markdown",
   "id": "8255858b",
   "metadata": {},
   "source": [
    "# Phase III: First ML Model Proof of Concept w/ Discussion of Ethical Considerations"
   ]
  },
  {
   "cell_type": "code",
   "execution_count": null,
   "id": "928acd09",
   "metadata": {},
   "outputs": [],
   "source": [
    "import pandas as pd"
   ]
  },
  {
   "cell_type": "code",
   "execution_count": null,
   "id": "d5783c09",
   "metadata": {},
   "outputs": [],
   "source": [
    "flights_df = pd.read_parquet(\"cleaned_flights.parquet\")\n",
    "flights_df.head()"
   ]
  },
  {
   "cell_type": "markdown",
   "id": "d0fc2907",
   "metadata": {},
   "source": [
    "## Numpy ML Model"
   ]
  },
  {
   "cell_type": "code",
   "execution_count": null,
   "id": "5e1b36c0",
   "metadata": {},
   "outputs": [],
   "source": [
    "import numpy as np"
   ]
  }
 ],
 "metadata": {
  "kernelspec": {
   "display_name": "base",
   "language": "python",
   "name": "python3"
  },
  "language_info": {
   "codemirror_mode": {
    "name": "ipython",
    "version": 3
   },
   "file_extension": ".py",
   "mimetype": "text/x-python",
   "name": "python",
   "nbconvert_exporter": "python",
   "pygments_lexer": "ipython3",
   "version": "3.12.2"
  }
 },
 "nbformat": 4,
 "nbformat_minor": 5
}
