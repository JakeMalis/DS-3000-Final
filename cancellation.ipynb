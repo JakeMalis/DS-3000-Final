{
 "cells": [
  {
   "cell_type": "code",
   "execution_count": 1,
   "metadata": {},
   "outputs": [
    {
     "ename": "NameError",
     "evalue": "name 'flights_df' is not defined",
     "output_type": "error",
     "traceback": [
      "\u001b[0;31m---------------------------------------------------------------------------\u001b[0m",
      "\u001b[0;31mNameError\u001b[0m                                 Traceback (most recent call last)",
      "Cell \u001b[0;32mIn[1], line 6\u001b[0m\n\u001b[1;32m      3\u001b[0m \u001b[38;5;28;01mimport\u001b[39;00m \u001b[38;5;21;01mcontextily\u001b[39;00m \u001b[38;5;28;01mas\u001b[39;00m \u001b[38;5;21;01mctx\u001b[39;00m\n\u001b[1;32m      5\u001b[0m \u001b[38;5;66;03m# Filter for cancelled departures\u001b[39;00m\n\u001b[0;32m----> 6\u001b[0m cancelled \u001b[38;5;241m=\u001b[39m \u001b[43mflights_df\u001b[49m[flights_df[\u001b[38;5;124m'\u001b[39m\u001b[38;5;124mCANCELLED\u001b[39m\u001b[38;5;124m'\u001b[39m] \u001b[38;5;241m==\u001b[39m \u001b[38;5;241m1\u001b[39m]\n\u001b[1;32m      8\u001b[0m \u001b[38;5;66;03m# Group by airport to count cancellations\u001b[39;00m\n\u001b[1;32m      9\u001b[0m agg \u001b[38;5;241m=\u001b[39m cancelled\u001b[38;5;241m.\u001b[39mgroupby([\u001b[38;5;124m'\u001b[39m\u001b[38;5;124mORIGIN_AIRPORT\u001b[39m\u001b[38;5;124m'\u001b[39m, \u001b[38;5;124m'\u001b[39m\u001b[38;5;124morigin_airport/LATITUDE\u001b[39m\u001b[38;5;124m'\u001b[39m, \u001b[38;5;124m'\u001b[39m\u001b[38;5;124morigin_airport/LONGITUDE\u001b[39m\u001b[38;5;124m'\u001b[39m]) \\\n\u001b[1;32m     10\u001b[0m                \u001b[38;5;241m.\u001b[39msize() \\\n\u001b[1;32m     11\u001b[0m                \u001b[38;5;241m.\u001b[39mreset_index(name\u001b[38;5;241m=\u001b[39m\u001b[38;5;124m'\u001b[39m\u001b[38;5;124mcancellations\u001b[39m\u001b[38;5;124m'\u001b[39m)\n",
      "\u001b[0;31mNameError\u001b[0m: name 'flights_df' is not defined"
     ]
    }
   ],
   "source": [
    "import geopandas as gpd\n",
    "from shapely.geometry import Point, box\n",
    "import contextily as ctx\n",
    "\n",
    "\n",
    "\n",
    "# Filter for cancelled departures\n",
    "cancelled = flights_df[flights_df['CANCELLED'] == 1]\n",
    "\n",
    "# Group by airport to count cancellations\n",
    "agg = cancelled.groupby(['ORIGIN_AIRPORT', 'origin_airport/LATITUDE', 'origin_airport/LONGITUDE']) \\\n",
    "               .size() \\\n",
    "               .reset_index(name='cancellations')\n",
    "\n",
    "# Create geometry from the longitude and latitude columns\n",
    "agg['geometry'] = agg.apply(lambda row: Point(row['origin_airport/LONGITUDE'], row['origin_airport/LATITUDE']), axis=1)\n",
    "\n",
    "# Convert to a GeoDataFrame\n",
    "gdf = gpd.GeoDataFrame(agg, geometry='geometry')\n",
    "gdf.set_crs(epsg=4326, inplace=True)\n",
    "\n",
    "# Reproject to Web Mercator for contextily\n",
    "gdf_3857 = gdf.to_crs(epsg=3857)\n",
    "\n",
    "# Define the bounding box for the continental US in EPSG:4326\n",
    "# Approximate coordinates: (-125, 24) to (-66, 50)\n",
    "bbox = box(-125, 24, -66, 50)\n",
    "bbox_gdf = gpd.GeoDataFrame({'geometry': [bbox]}, crs='epsg:4326')\n",
    "bbox_3857 = bbox_gdf.to_crs(epsg=3857)\n",
    "\n",
    "# Get the bounds (xmin, ymin, xmax, ymax)\n",
    "xmin, ymin, xmax, ymax = bbox_3857.total_bounds\n",
    "\n",
    "# Plot and add basemap with extent to focus on the continental US\n",
    "fig, ax = plt.subplots(figsize=(12, 8))\n",
    "gdf_3857.plot(ax=ax, markersize=gdf_3857['cancellations']*2, color='red', alpha=0.6, legend=True)\n",
    "ctx.add_basemap(ax, source=ctx.providers.OpenStreetMap.Mapnik)\n",
    "ax.set_xlim(xmin, xmax)\n",
    "ax.set_ylim(ymin, ymax)\n",
    "ax.set_title(\"Cancellation Counts at Departure Airports within Continental US\")\n",
    "plt.show()"
   ]
  },
  {
   "cell_type": "code",
   "execution_count": null,
   "metadata": {},
   "outputs": [],
   "source": [
    "# Compute cancellation ratio per airline and create a bar chart\n",
    "agg_flights = flights_df.groupby('AIRLINE').agg(cancel_ratio=('CANCELLED', 'mean')).reset_index()\n",
    "\n",
    "plt.figure(figsize=(12, 8))\n",
    "sns.barplot(data=agg_flights, x='AIRLINE', y='cancel_ratio')\n",
    "plt.xlabel(\"Airline\")\n",
    "plt.ylabel(\"Cancellation Ratio\")\n",
    "plt.title(\"Cancellation Ratio by Airline\")\n",
    "plt.ylim(0, agg_flights['cancel_ratio'].max() * 1.1)\n",
    "plt.show()"
   ]
  }
 ],
 "metadata": {
  "kernelspec": {
   "display_name": "Python 3",
   "language": "python",
   "name": "python3"
  },
  "language_info": {
   "codemirror_mode": {
    "name": "ipython",
    "version": 3
   },
   "file_extension": ".py",
   "mimetype": "text/x-python",
   "name": "python",
   "nbconvert_exporter": "python",
   "pygments_lexer": "ipython3",
   "version": "3.10.4"
  }
 },
 "nbformat": 4,
 "nbformat_minor": 2
}
