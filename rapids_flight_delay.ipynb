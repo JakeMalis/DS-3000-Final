{
  "cells": [
    {
      "cell_type": "markdown",
      "metadata": {
        "id": "cMlJG79ViZ47"
      },
      "source": [
        "# Flight Delay Prediction"
      ]
    },
    {
      "cell_type": "markdown",
      "metadata": {
        "id": "hlDApaTziZ49"
      },
      "source": [
        "## Data Loading and Preprocessing"
      ]
    },
    {
      "cell_type": "code",
      "source": [
        "%load_ext cuml.accel\n",
        "%load_ext cudf.pandas"
      ],
      "metadata": {
        "id": "zU0JQBiFib04"
      },
      "execution_count": null,
      "outputs": []
    },
    {
      "cell_type": "code",
      "source": [
        "import cudf\n",
        "import cupy as cp\n",
        "from cuml.preprocessing import OneHotEncoder"
      ],
      "metadata": {
        "id": "iNWFKLjqkTPh"
      },
      "execution_count": null,
      "outputs": []
    },
    {
      "cell_type": "code",
      "execution_count": null,
      "metadata": {
        "id": "qBtTrg3oiZ49"
      },
      "outputs": [],
      "source": [
        "import pandas as pd\n",
        "import numpy as np"
      ]
    },
    {
      "cell_type": "code",
      "execution_count": null,
      "metadata": {
        "id": "Z50tD9jXiZ49"
      },
      "outputs": [],
      "source": [
        "# Load the cleaned flight data\n",
        "flights_df = cudf.read_parquet(\"cleaned_flights.parquet\")"
      ]
    },
    {
      "cell_type": "code",
      "execution_count": null,
      "metadata": {
        "id": "k7ML7eUfiZ4-"
      },
      "outputs": [],
      "source": [
        "# Extract the hour from the 'DATE' column and create a new column 'DEPARTURE_HOUR'\n",
        "flights_df['DEPARTURE_HOUR'] = flights_df['DATE'].dt.hour"
      ]
    },
    {
      "cell_type": "code",
      "execution_count": null,
      "metadata": {
        "id": "zquSPcJ_iZ4-"
      },
      "outputs": [],
      "source": [
        "# Replace missing values in 'DAILY_SNOWFALL' with 0\n",
        "flights_df['DAILY_SNOWFALL'] = flights_df['DAILY_SNOWFALL'].fillna(0)"
      ]
    },
    {
      "cell_type": "code",
      "execution_count": null,
      "metadata": {
        "id": "BI7RNYtCiZ4-"
      },
      "outputs": [],
      "source": [
        "# Select only delayed flights from flights_df\n",
        "delayed_flights = flights_df[flights_df['ARRIVAL_DELAY'] > 0].copy()"
      ]
    },
    {
      "cell_type": "markdown",
      "metadata": {
        "id": "V7uAXtV8iZ4-"
      },
      "source": [
        "## scikit-learn Models"
      ]
    },
    {
      "cell_type": "code",
      "execution_count": null,
      "metadata": {
        "id": "TK7pBFLviZ4-"
      },
      "outputs": [],
      "source": [
        "from sklearn.metrics import mean_squared_error, r2_score\n",
        "from sklearn.linear_model import LinearRegression, Ridge, Lasso\n",
        "from sklearn.preprocessing import PolynomialFeatures\n",
        "from sklearn.model_selection import train_test_split\n",
        "from sklearn.ensemble import RandomForestRegressor, GradientBoostingRegressor"
      ]
    },
    {
      "cell_type": "code",
      "execution_count": null,
      "metadata": {
        "id": "lWDyWr_3iZ4_"
      },
      "outputs": [],
      "source": [
        "# Standardize numeric columns for sklearn models\n",
        "for col in ['MONTH', 'DEPARTURE_HOUR', 'DAY_OF_WEEK', 'DISTANCE']:\n",
        "    col_mean = delayed_flights[col].mean()\n",
        "    col_std  = delayed_flights[col].std()\n",
        "    delayed_flights[col] = (delayed_flights[col] - col_mean) / col_std"
      ]
    },
    {
      "cell_type": "code",
      "source": [
        "# Extract features for sklearn models\n",
        "numeric_feats = delayed_flights[['MONTH', 'DEPARTURE_HOUR', 'DAY_OF_WEEK', 'DISTANCE', 'DAILY_SNOWFALL']].values\n",
        "categorical_feats = cudf.get_dummies(delayed_flights[['AIRLINE', 'origin_airport/AIRPORT', 'destination_airport/AIRPORT']]).values\n",
        "X = np.hstack([numeric_feats, categorical_feats])\n",
        "y = delayed_flights['ARRIVAL_DELAY'].values\n"
      ],
      "metadata": {
        "id": "YjsryMysk2PJ"
      },
      "execution_count": null,
      "outputs": []
    },
    {
      "cell_type": "code",
      "execution_count": null,
      "metadata": {
        "id": "MDZBNd2NiZ4_"
      },
      "outputs": [],
      "source": [
        "split = int(0.8 * X.shape[0])\n",
        "X_train, X_test = X[:split], X[split:]\n",
        "y_train, y_test = y[:split], y[split:]"
      ]
    },
    {
      "cell_type": "code",
      "source": [
        "# Import the cuML RandomForestRegressor\n",
        "from cuml.ensemble import RandomForestRegressor as cuRF"
      ],
      "metadata": {
        "id": "3OBx77ig8hEr"
      },
      "execution_count": null,
      "outputs": []
    },
    {
      "cell_type": "code",
      "execution_count": null,
      "metadata": {
        "id": "QnjvTE_DiZ4_"
      },
      "outputs": [],
      "source": [
        "# Random Forest without cross-validation\n",
        "rf_model = cuRF(n_estimators=100, max_depth=10, random_state=42, verbose=3)\n",
        "rf_model.fit(X_train, y_train)"
      ]
    },
    {
      "cell_type": "code",
      "execution_count": null,
      "metadata": {
        "id": "hgHi4EwWiZ4_"
      },
      "outputs": [],
      "source": [
        "# Get predictions\n",
        "rf_predictions = rf_model.predict(X_test)\n",
        "\n",
        "# Print the MSE, R2, and RMSE\n",
        "rf_r2 = r2_score(y_test.get(), rf_predictions)  # Convert y_test to NumPy array\n",
        "rf_mse = mean_squared_error(y_test.get(), rf_predictions)  # Convert y_test to NumPy array\n",
        "rf_rmse = np.sqrt(rf_mse)\n",
        "print(f\"RF test R2: {rf_r2}, MSE: {rf_mse}, RMSE: {rf_rmse}\")"
      ]
    }
  ],
  "metadata": {
    "kernelspec": {
      "display_name": "Python 3",
      "name": "python3"
    },
    "language_info": {
      "codemirror_mode": {
        "name": "ipython",
        "version": 3
      },
      "file_extension": ".py",
      "mimetype": "text/x-python",
      "name": "python",
      "nbconvert_exporter": "python",
      "pygments_lexer": "ipython3",
      "version": "3.12.2"
    },
    "colab": {
      "provenance": [],
      "gpuType": "T4"
    },
    "accelerator": "GPU"
  },
  "nbformat": 4,
  "nbformat_minor": 0
}