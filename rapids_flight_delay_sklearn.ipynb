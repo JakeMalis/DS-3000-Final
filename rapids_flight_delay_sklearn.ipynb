{
  "cells": [
    {
      "cell_type": "markdown",
      "metadata": {
        "id": "cMlJG79ViZ47"
      },
      "source": [
        "# Flight Delay Prediction"
      ]
    },
    {
      "cell_type": "markdown",
      "metadata": {
        "id": "hlDApaTziZ49"
      },
      "source": [
        "## Data Loading and Preprocessing"
      ]
    },
    {
      "cell_type": "code",
      "source": [
        "import cudf\n",
        "import cupy as cp"
      ],
      "metadata": {
        "id": "iNWFKLjqkTPh"
      },
      "execution_count": null,
      "outputs": []
    },
    {
      "cell_type": "code",
      "source": [
        "# Load the cleaned flight data as a sample\n",
        "flights_df = cudf.read_parquet(\"https://github.com/JakeMalis/DS-3000-Final/raw/refs/heads/main/cleaned_flights.parquet\").sample(frac=0.25)"
      ],
      "metadata": {
        "id": "RnKFQu9iUmFi"
      },
      "execution_count": null,
      "outputs": []
    },
    {
      "cell_type": "code",
      "execution_count": null,
      "metadata": {
        "id": "k7ML7eUfiZ4-"
      },
      "outputs": [],
      "source": [
        "# Extract the hour from the 'DATE' column and create a new column 'DEPARTURE_HOUR'\n",
        "flights_df['DEPARTURE_HOUR'] = flights_df['DATE'].dt.hour"
      ]
    },
    {
      "cell_type": "code",
      "execution_count": null,
      "metadata": {
        "id": "zquSPcJ_iZ4-"
      },
      "outputs": [],
      "source": [
        "# Replace missing values in 'DAILY_SNOWFALL' with 0\n",
        "flights_df['DAILY_SNOWFALL'] = flights_df['DAILY_SNOWFALL'].fillna(0)"
      ]
    },
    {
      "cell_type": "code",
      "source": [
        "# Remove flights missing an ARRIVAL_DELAY value\n",
        "flights_df = flights_df.dropna(subset=['ARRIVAL_DELAY'])"
      ],
      "metadata": {
        "id": "Csy5DcbHaZTk"
      },
      "execution_count": null,
      "outputs": []
    },
    {
      "cell_type": "markdown",
      "metadata": {
        "id": "V7uAXtV8iZ4-"
      },
      "source": [
        "## scikit-learn Models"
      ]
    },
    {
      "cell_type": "code",
      "execution_count": null,
      "metadata": {
        "id": "TK7pBFLviZ4-"
      },
      "outputs": [],
      "source": [
        "from cuml.metrics import mean_squared_error, r2_score\n",
        "from cuml.linear_model import LinearRegression, Ridge, Lasso\n",
        "from cuml.ensemble import RandomForestRegressor"
      ]
    },
    {
      "cell_type": "code",
      "execution_count": null,
      "metadata": {
        "id": "lWDyWr_3iZ4_"
      },
      "outputs": [],
      "source": [
        "# Standardize numeric columns for sklearn models\n",
        "for col in ['MONTH', 'DEPARTURE_HOUR', 'DAY_OF_WEEK', 'DISTANCE']:\n",
        "    col_mean = flights_df[col].mean()\n",
        "    col_std  = flights_df[col].std()\n",
        "    flights_df[col] = (flights_df[col] - col_mean) / col_std"
      ]
    },
    {
      "cell_type": "code",
      "source": [
        "# Extract features for sklearn models\n",
        "numeric_feats = flights_df[['MONTH', 'DEPARTURE_HOUR', 'DAY_OF_WEEK', 'DISTANCE', 'DAILY_SNOWFALL']].astype(cp.float32).values\n",
        "categorical_feats = cudf.get_dummies(flights_df[['AIRLINE', 'origin_airport/AIRPORT', 'destination_airport/AIRPORT']]).values.astype(cp.float32)\n",
        "X = cp.hstack([numeric_feats, categorical_feats])\n",
        "y = flights_df['ARRIVAL_DELAY'].values"
      ],
      "metadata": {
        "id": "lPReBK4BDsNa"
      },
      "execution_count": null,
      "outputs": []
    },
    {
      "cell_type": "code",
      "execution_count": null,
      "metadata": {
        "id": "MDZBNd2NiZ4_"
      },
      "outputs": [],
      "source": [
        "split = int(0.8 * X.shape[0])\n",
        "X_train, X_test = X[:split], X[split:]\n",
        "y_train, y_test = y[:split], y[split:]"
      ]
    },
    {
      "cell_type": "code",
      "source": [
        "# Quadratic Regression\n",
        "quadratic_model = LinearRegression(fit_intercept=True, normalize=True, algorithm='eig')\n",
        "quadratic_model.fit(X_train, y_train)\n",
        "\n",
        "# Get predictions\n",
        "quadratic_predictions = quadratic_model.predict(X_test)\n",
        "\n",
        "# Print the MSE, R2, and RMSE\n",
        "quadratic_r2 = r2_score(y_test.get(), quadratic_predictions)\n",
        "quadratic_mse = mean_squared_error(y_test.get(), quadratic_predictions)\n",
        "quadratic_rmse = cp.sqrt(quadratic_mse)\n",
        "print(f\"Quadratic test R2: {quadratic_r2}, MSE: {quadratic_mse}, RMSE: {quadratic_rmse}\")"
      ],
      "metadata": {
        "id": "mA7LgY4HdiNb"
      },
      "execution_count": null,
      "outputs": []
    },
    {
      "cell_type": "code",
      "source": [
        "# Lasso Regression\n",
        "lasso_model = Lasso(verbose=6)\n",
        "lasso_model.fit(X_train, y_train)\n",
        "\n",
        "# Get predictions\n",
        "lasso_predictions = lasso_model.predict(X_test)\n",
        "\n",
        "# Print the MSE, R2, and RMSE\n",
        "lasso_r2 = r2_score(y_test.get(), lasso_predictions)\n",
        "lasso_mse = mean_squared_error(y_test.get(), lasso_predictions)\n",
        "lasso_rmse = cp.sqrt(lasso_mse)\n",
        "print(f\"Lasso test R2: {lasso_r2}, MSE: {lasso_mse}, RMSE: {lasso_rmse}\")"
      ],
      "metadata": {
        "id": "cELs_TDnSVmf"
      },
      "execution_count": null,
      "outputs": []
    },
    {
      "cell_type": "code",
      "source": [
        "# Ridge Regression\n",
        "ridge_model = Ridge(verbose=6)\n",
        "ridge_model.fit(X_train, y_train)\n",
        "\n",
        "# Get predictions\n",
        "ridge_predictions = ridge_model.predict(X_test)\n",
        "\n",
        "# Print the MSE, R2, and RMSE\n",
        "ridge_r2 = r2_score(y_test.get(), ridge_predictions)\n",
        "ridge_mse = mean_squared_error(y_test.get(), ridge_predictions)\n",
        "ridge_rmse = cp.sqrt(ridge_mse)\n",
        "print(f\"Ridge test R2: {ridge_r2}, MSE: {ridge_mse}, RMSE: {ridge_rmse}\")"
      ],
      "metadata": {
        "id": "a7CsusJ_R6_u"
      },
      "execution_count": null,
      "outputs": []
    },
    {
      "cell_type": "code",
      "execution_count": null,
      "metadata": {
        "id": "QnjvTE_DiZ4_"
      },
      "outputs": [],
      "source": [
        "# Random Forest without cross-validation\n",
        "rf_model = RandomForestRegressor(n_estimators=100, max_depth=10, random_state=42, n_streams=1, verbose=6)\n",
        "rf_model.fit(X_train, y_train)\n",
        "\n",
        "# Get predictions\n",
        "rf_predictions = rf_model.predict(X_test)\n",
        "\n",
        "# Print the MSE, R2, and RMSE\n",
        "rf_r2 = r2_score(y_test.get(), rf_predictions)\n",
        "rf_mse = mean_squared_error(y_test.get(), rf_predictions)\n",
        "rf_rmse = cp.sqrt(rf_mse)\n",
        "print(f\"RF test R2: {rf_r2}, MSE: {rf_mse}, RMSE: {rf_rmse}\")"
      ]
    }
  ],
  "metadata": {
    "kernelspec": {
      "display_name": "Python 3",
      "name": "python3"
    },
    "language_info": {
      "codemirror_mode": {
        "name": "ipython",
        "version": 3
      },
      "file_extension": ".py",
      "mimetype": "text/x-python",
      "name": "python",
      "nbconvert_exporter": "python",
      "pygments_lexer": "ipython3",
      "version": "3.12.2"
    },
    "colab": {
      "provenance": [],
      "gpuType": "A100",
      "machine_shape": "hm"
    },
    "accelerator": "GPU"
  },
  "nbformat": 4,
  "nbformat_minor": 0
}