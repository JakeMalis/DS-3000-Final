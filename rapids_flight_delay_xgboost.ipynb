{
  "cells": [
    {
      "cell_type": "markdown",
      "metadata": {
        "id": "cMlJG79ViZ47"
      },
      "source": [
        "# Flight Delay Prediction"
      ]
    },
    {
      "cell_type": "markdown",
      "metadata": {
        "id": "hlDApaTziZ49"
      },
      "source": [
        "## Data Loading and Preprocessing"
      ]
    },
    {
      "cell_type": "code",
      "source": [
        "!wget https://github.com/JakeMalis/DS-3000-Final/raw/refs/heads/main/cleaned_flights.parquet"
      ],
      "metadata": {
        "id": "vOEgA5ahXEvu"
      },
      "execution_count": null,
      "outputs": []
    },
    {
      "cell_type": "code",
      "execution_count": null,
      "metadata": {
        "execution": {
          "iopub.execute_input": "2025-04-29T16:13:46.468082Z",
          "iopub.status.busy": "2025-04-29T16:13:46.467796Z",
          "iopub.status.idle": "2025-04-29T16:13:48.552930Z",
          "shell.execute_reply": "2025-04-29T16:13:48.552130Z",
          "shell.execute_reply.started": "2025-04-29T16:13:46.468061Z"
        },
        "id": "iNWFKLjqkTPh"
      },
      "outputs": [],
      "source": [
        "import cudf\n",
        "import cupy as cp"
      ]
    },
    {
      "cell_type": "code",
      "execution_count": null,
      "metadata": {
        "execution": {
          "iopub.execute_input": "2025-04-29T16:13:48.554543Z",
          "iopub.status.busy": "2025-04-29T16:13:48.554125Z",
          "iopub.status.idle": "2025-04-29T16:17:04.617419Z",
          "shell.execute_reply": "2025-04-29T16:17:04.616756Z",
          "shell.execute_reply.started": "2025-04-29T16:13:48.554485Z"
        },
        "id": "Z50tD9jXiZ49"
      },
      "outputs": [],
      "source": [
        "# Load the cleaned flight data\n",
        "flights_df = cudf.read_parquet(\"cleaned_flights.parquet\")"
      ]
    },
    {
      "cell_type": "code",
      "execution_count": null,
      "metadata": {
        "execution": {
          "iopub.execute_input": "2025-04-29T16:17:04.618530Z",
          "iopub.status.busy": "2025-04-29T16:17:04.618155Z",
          "iopub.status.idle": "2025-04-29T16:17:04.627400Z",
          "shell.execute_reply": "2025-04-29T16:17:04.626878Z",
          "shell.execute_reply.started": "2025-04-29T16:17:04.618486Z"
        },
        "id": "k7ML7eUfiZ4-"
      },
      "outputs": [],
      "source": [
        "# Extract the hour from the 'DATE' column and create a new column 'DEPARTURE_HOUR'\n",
        "flights_df['DEPARTURE_HOUR'] = flights_df['DATE'].dt.hour"
      ]
    },
    {
      "cell_type": "code",
      "execution_count": null,
      "metadata": {
        "execution": {
          "iopub.execute_input": "2025-04-29T16:17:04.628956Z",
          "iopub.status.busy": "2025-04-29T16:17:04.628480Z",
          "iopub.status.idle": "2025-04-29T16:17:04.687788Z",
          "shell.execute_reply": "2025-04-29T16:17:04.687103Z",
          "shell.execute_reply.started": "2025-04-29T16:17:04.628933Z"
        },
        "id": "zquSPcJ_iZ4-"
      },
      "outputs": [],
      "source": [
        "# Replace missing values in 'DAILY_SNOWFALL' with 0\n",
        "flights_df['DAILY_SNOWFALL'] = flights_df['DAILY_SNOWFALL'].fillna(0)"
      ]
    },
    {
      "cell_type": "code",
      "execution_count": null,
      "metadata": {
        "execution": {
          "iopub.execute_input": "2025-04-29T16:17:04.689160Z",
          "iopub.status.busy": "2025-04-29T16:17:04.688676Z",
          "iopub.status.idle": "2025-04-29T16:17:04.767247Z",
          "shell.execute_reply": "2025-04-29T16:17:04.766500Z",
          "shell.execute_reply.started": "2025-04-29T16:17:04.689111Z"
        },
        "id": "BI7RNYtCiZ4-"
      },
      "outputs": [],
      "source": [
        "# Select only delayed flights from flights_df\n",
        "delayed_flights = flights_df[flights_df['ARRIVAL_DELAY'] > 0].copy()"
      ]
    },
    {
      "cell_type": "markdown",
      "metadata": {
        "id": "V7uAXtV8iZ4-"
      },
      "source": [
        "## XGBoost Models"
      ]
    },
    {
      "cell_type": "code",
      "execution_count": null,
      "metadata": {
        "execution": {
          "iopub.execute_input": "2025-04-29T16:17:51.244696Z",
          "iopub.status.busy": "2025-04-29T16:17:51.244382Z",
          "iopub.status.idle": "2025-04-29T16:17:52.776845Z",
          "shell.execute_reply": "2025-04-29T16:17:52.775982Z",
          "shell.execute_reply.started": "2025-04-29T16:17:51.244674Z"
        },
        "id": "qxa26RTHWFec"
      },
      "outputs": [],
      "source": [
        "import xgboost as xgb\n",
        "from cuml.metrics import mean_squared_error, r2_score"
      ]
    },
    {
      "cell_type": "code",
      "execution_count": null,
      "metadata": {
        "execution": {
          "iopub.execute_input": "2025-04-29T16:17:53.911805Z",
          "iopub.status.busy": "2025-04-29T16:17:53.910842Z",
          "iopub.status.idle": "2025-04-29T16:17:54.037773Z",
          "shell.execute_reply": "2025-04-29T16:17:54.037190Z",
          "shell.execute_reply.started": "2025-04-29T16:17:53.911777Z"
        },
        "id": "lWDyWr_3iZ4_"
      },
      "outputs": [],
      "source": [
        "# Standardize numeric columns for sklearn models\n",
        "for col in ['MONTH', 'DEPARTURE_HOUR', 'DAY_OF_WEEK', 'DISTANCE']:\n",
        "    col_mean = delayed_flights[col].mean()\n",
        "    col_std  = delayed_flights[col].std()\n",
        "    delayed_flights[col] = (delayed_flights[col] - col_mean) / col_std"
      ]
    },
    {
      "cell_type": "code",
      "execution_count": null,
      "metadata": {
        "execution": {
          "iopub.execute_input": "2025-04-29T16:17:55.826583Z",
          "iopub.status.busy": "2025-04-29T16:17:55.825640Z",
          "iopub.status.idle": "2025-04-29T16:17:56.565487Z",
          "shell.execute_reply": "2025-04-29T16:17:56.564283Z",
          "shell.execute_reply.started": "2025-04-29T16:17:55.826555Z"
        },
        "id": "lPReBK4BDsNa"
      },
      "outputs": [],
      "source": [
        "# Extract features for sklearn models\n",
        "numeric_feats = delayed_flights[['MONTH', 'DEPARTURE_HOUR', 'DAY_OF_WEEK', 'DISTANCE', 'DAILY_SNOWFALL']].astype(cp.float32).values\n",
        "categorical_feats = cudf.get_dummies(delayed_flights[['AIRLINE', 'origin_airport/AIRPORT', 'destination_airport/AIRPORT']]).values\n",
        "X = cp.hstack([numeric_feats, categorical_feats])\n",
        "y = delayed_flights['ARRIVAL_DELAY'].values"
      ]
    },
    {
      "cell_type": "code",
      "execution_count": null,
      "metadata": {
        "id": "MDZBNd2NiZ4_"
      },
      "outputs": [],
      "source": [
        "split = int(0.8 * X.shape[0])\n",
        "X_train, X_test = X[:split], X[split:]\n",
        "y_train, y_test = y[:split], y[split:]"
      ]
    },
    {
      "cell_type": "code",
      "execution_count": null,
      "metadata": {
        "id": "QnjvTE_DiZ4_"
      },
      "outputs": [],
      "source": [
        "# Cell to replace RandomForestRegressor instantiation and training\n",
        "# XGBoost with GPU acceleration\n",
        "xgb_model = xgb.XGBRegressor(\n",
        "    objective='reg:squarederror',   # Specify the learning task\n",
        "    tree_method='hist',             # Use GPU acceleration\n",
        "    device= 'cuda',\n",
        "    n_estimators=100,               # Number of boosting rounds\n",
        "    max_depth=10,                   # Maximum tree depth (similar to RF)\n",
        "    random_state=42,\n",
        "    verbosity=3                     # Set verbosity level\n",
        ")\n",
        "xgb_model.fit(X_train, y_train)"
      ]
    },
    {
      "cell_type": "code",
      "execution_count": null,
      "metadata": {
        "id": "hgHi4EwWiZ4_"
      },
      "outputs": [],
      "source": [
        "# Cell to replace RandomForestRegressor prediction and evaluation\n",
        "# Get predictions with XGBoost\n",
        "xgb_predictions = xgb_model.predict(X_test)\n",
        "\n",
        "# XGBoost predict returns a numpy array by default when input is cupy,\n",
        "# convert it back to cupy array if needed for further cuML/cuPy operations\n",
        "xgb_predictions_cp = cp.asarray(xgb_predictions)\n",
        "\n",
        "# Print the MSE, R2, and RMSE (using the same cuML metrics)\n",
        "# Note: Ensure y_test is a CuPy array if it isn't already.\n",
        "# If y_test is a cuDF Series, use y_test.values\n",
        "xgb_r2 = r2_score(y_test, xgb_predictions_cp)\n",
        "xgb_mse = mean_squared_error(y_test, xgb_predictions_cp)\n",
        "xgb_rmse = cp.sqrt(xgb_mse)\n",
        "print(f\"XGBoost test R2: {xgb_r2}, MSE: {xgb_mse}, RMSE: {xgb_rmse}\")"
      ]
    }
  ],
  "metadata": {
    "accelerator": "GPU",
    "colab": {
      "gpuType": "T4",
      "provenance": []
    },
    "kernelspec": {
      "display_name": "Python 3",
      "name": "python3"
    },
    "language_info": {
      "codemirror_mode": {
        "name": "ipython",
        "version": 3
      },
      "file_extension": ".py",
      "mimetype": "text/x-python",
      "name": "python",
      "nbconvert_exporter": "python",
      "pygments_lexer": "ipython3",
      "version": "3.12.3"
    }
  },
  "nbformat": 4,
  "nbformat_minor": 0
}
